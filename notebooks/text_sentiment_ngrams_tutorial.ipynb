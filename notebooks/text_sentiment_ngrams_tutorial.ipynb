{
  "cells": [
    {
      "cell_type": "code",
      "execution_count": null,
      "source": [
        "%matplotlib inline"
      ],
      "outputs": [],
      "metadata": {
        "collapsed": false
      }
    },
    {
      "cell_type": "markdown",
      "source": [
        "\n",
        "Text classification with the torchtext library\n",
        "==================================\n",
        "\n",
        "In this tutorial, we will show how to use the torchtext library to build the dataset for the text classification analysis. Users will have the flexibility to\n",
        "\n",
        "   - Access to the raw data as an iterator\n",
        "   - Build data processing pipeline to convert the raw text strings into ``torch.Tensor`` that can be used to train the model\n",
        "   - Shuffle and iterate the data with `torch.utils.data.DataLoader <https://pytorch.org/docs/stable/data.html?highlight=dataloader#torch.utils.data.DataLoader>`__\n",
        "\n"
      ],
      "metadata": {}
    },
    {
      "cell_type": "markdown",
      "source": [
        "Access to the raw dataset iterators\n",
        "-----------------------------------\n",
        "\n",
        "The torchtext library provides a few raw dataset iterators, which yield the raw text strings. For example, the ``AG_NEWS`` dataset iterators yield the raw data as a tuple of label and text.\n",
        "\n"
      ],
      "metadata": {}
    },
    {
      "cell_type": "code",
      "execution_count": 1,
      "source": [
        "import torch\r\n",
        "from torchtext.datasets import AG_NEWS\r\n",
        "train_iter = AG_NEWS(split='train')"
      ],
      "outputs": [
        {
          "output_type": "error",
          "ename": "ModuleNotFoundError",
          "evalue": "No module named 'torchtext'",
          "traceback": [
            "\u001b[1;31m---------------------------------------------------------------------------\u001b[0m",
            "\u001b[1;31mModuleNotFoundError\u001b[0m                       Traceback (most recent call last)",
            "\u001b[1;32m<ipython-input-1-287ca21c84a1>\u001b[0m in \u001b[0;36m<module>\u001b[1;34m\u001b[0m\n\u001b[0;32m      1\u001b[0m \u001b[1;32mimport\u001b[0m \u001b[0mtorch\u001b[0m\u001b[1;33m\u001b[0m\u001b[1;33m\u001b[0m\u001b[0m\n\u001b[1;32m----> 2\u001b[1;33m \u001b[1;32mfrom\u001b[0m \u001b[0mtorchtext\u001b[0m\u001b[1;33m.\u001b[0m\u001b[0mdatasets\u001b[0m \u001b[1;32mimport\u001b[0m \u001b[0mAG_NEWS\u001b[0m\u001b[1;33m\u001b[0m\u001b[1;33m\u001b[0m\u001b[0m\n\u001b[0m\u001b[0;32m      3\u001b[0m \u001b[0mtrain_iter\u001b[0m \u001b[1;33m=\u001b[0m \u001b[0mAG_NEWS\u001b[0m\u001b[1;33m(\u001b[0m\u001b[0msplit\u001b[0m\u001b[1;33m=\u001b[0m\u001b[1;34m'train'\u001b[0m\u001b[1;33m)\u001b[0m\u001b[1;33m\u001b[0m\u001b[1;33m\u001b[0m\u001b[0m\n",
            "\u001b[1;31mModuleNotFoundError\u001b[0m: No module named 'torchtext'"
          ]
        }
      ],
      "metadata": {
        "collapsed": false
      }
    },
    {
      "cell_type": "markdown",
      "source": [
        "::\n",
        "\n",
        "    next(train_iter)\n",
        "    >>> (3, \"Wall St. Bears Claw Back Into the Black (Reuters) Reuters - \n",
        "    Short-sellers, Wall Street's dwindling\\\\band of ultra-cynics, are seeing green \n",
        "    again.\")\n",
        "\n",
        "    next(train_iter)\n",
        "    >>> (3, 'Carlyle Looks Toward Commercial Aerospace (Reuters) Reuters - Private \n",
        "    investment firm Carlyle Group,\\\\which has a reputation for making well-timed \n",
        "    and occasionally\\\\controversial plays in the defense industry, has quietly \n",
        "    placed\\\\its bets on another part of the market.')\n",
        "\n",
        "    next(train_iter)\n",
        "    >>> (3, \"Oil and Economy Cloud Stocks' Outlook (Reuters) Reuters - Soaring \n",
        "    crude prices plus worries\\\\about the economy and the outlook for earnings are \n",
        "    expected to\\\\hang over the stock market next week during the depth of \n",
        "    the\\\\summer doldrums.\")\n",
        "\n",
        "\n"
      ],
      "metadata": {}
    },
    {
      "cell_type": "markdown",
      "source": [
        "Prepare data processing pipelines\n",
        "---------------------------------\n",
        "\n",
        "We have revisited the very basic components of the torchtext library, including vocab, word vectors, tokenizer. Those are the basic data processing building blocks for raw text string.\n",
        "\n",
        "Here is an example for typical NLP data processing with tokenizer and vocabulary. The first step is to build a vocabulary with the raw training dataset. Here we use built in\n",
        "factory function `build_vocab_from_iterator` which accepts iterator that yield list or iterator of tokens. Users can also pass any special symbols to be added to the\n",
        "vocabulary.\n",
        "\n"
      ],
      "metadata": {}
    },
    {
      "cell_type": "code",
      "execution_count": null,
      "source": [
        "from torchtext.data.utils import get_tokenizer\r\n",
        "from torchtext.vocab import build_vocab_from_iterator\r\n",
        "\r\n",
        "tokenizer = get_tokenizer('basic_english')\r\n",
        "train_iter = AG_NEWS(split='train')\r\n",
        "\r\n",
        "def yield_tokens(data_iter):\r\n",
        "    for _, text in data_iter:\r\n",
        "        yield tokenizer(text)\r\n",
        "\r\n",
        "vocab = build_vocab_from_iterator(yield_tokens(train_iter), specials=[\"<unk>\"])\r\n",
        "vocab.set_default_index(vocab[\"<unk>\"])"
      ],
      "outputs": [],
      "metadata": {
        "collapsed": false
      }
    },
    {
      "cell_type": "markdown",
      "source": [
        "The vocabulary block converts a list of tokens into integers.\n",
        "\n",
        "::\n",
        "\n",
        "    vocab(['here', 'is', 'an', 'example'])\n",
        "    >>> [475, 21, 30, 5286]\n",
        "\n",
        "Prepare the text processing pipeline with the tokenizer and vocabulary. The text and label pipelines will be used to process the raw data strings from the dataset iterators.\n",
        "\n"
      ],
      "metadata": {}
    },
    {
      "cell_type": "code",
      "execution_count": null,
      "source": [
        "text_pipeline = lambda x: vocab(tokenizer(x))\r\n",
        "label_pipeline = lambda x: int(x) - 1"
      ],
      "outputs": [],
      "metadata": {
        "collapsed": false
      }
    },
    {
      "cell_type": "markdown",
      "source": [
        "The text pipeline converts a text string into a list of integers based on the lookup table defined in the vocabulary. The label pipeline converts the label into integers. For example,\n",
        "\n",
        "::\n",
        "\n",
        "    text_pipeline('here is the an example')\n",
        "    >>> [475, 21, 2, 30, 5286]\n",
        "    label_pipeline('10')\n",
        "    >>> 9\n",
        "\n",
        "\n"
      ],
      "metadata": {}
    },
    {
      "cell_type": "markdown",
      "source": [
        "Generate data batch and iterator \n",
        "--------------------------------\n",
        "\n",
        "`torch.utils.data.DataLoader <https://pytorch.org/docs/stable/data.html?highlight=dataloader#torch.utils.data.DataLoader>`__\n",
        "is recommended for PyTorch users (a tutorial is `here <https://pytorch.org/tutorials/beginner/data_loading_tutorial.html>`__).\n",
        "It works with a map-style dataset that implements the ``getitem()`` and ``len()`` protocols, and represents a map from indices/keys to data samples. It also works with an iterable dataset with the shuffle argument of ``False``.\n",
        "\n",
        "Before sending to the model, ``collate_fn`` function works on a batch of samples generated from ``DataLoader``. The input to ``collate_fn`` is a batch of data with the batch size in ``DataLoader``, and ``collate_fn`` processes them according to the data processing pipelines declared previously. Pay attention here and make sure that ``collate_fn`` is declared as a top level def. This ensures that the function is available in each worker.\n",
        "\n",
        "In this example, the text entries in the original data batch input are packed into a list and concatenated as a single tensor for the input of ``nn.EmbeddingBag``. The offset is a tensor of delimiters to represent the beginning index of the individual sequence in the text tensor. Label is a tensor saving the labels of individual text entries.\n",
        "\n"
      ],
      "metadata": {}
    },
    {
      "cell_type": "code",
      "execution_count": null,
      "source": [
        "from torch.utils.data import DataLoader\r\n",
        "device = torch.device(\"cuda\" if torch.cuda.is_available() else \"cpu\")\r\n",
        "\r\n",
        "def collate_batch(batch):\r\n",
        "    label_list, text_list, offsets = [], [], [0]\r\n",
        "    for (_label, _text) in batch:\r\n",
        "         label_list.append(label_pipeline(_label))\r\n",
        "         processed_text = torch.tensor(text_pipeline(_text), dtype=torch.int64)\r\n",
        "         text_list.append(processed_text)\r\n",
        "         offsets.append(processed_text.size(0))\r\n",
        "    label_list = torch.tensor(label_list, dtype=torch.int64)\r\n",
        "    offsets = torch.tensor(offsets[:-1]).cumsum(dim=0)\r\n",
        "    text_list = torch.cat(text_list)\r\n",
        "    return label_list.to(device), text_list.to(device), offsets.to(device)    \r\n",
        "\r\n",
        "train_iter = AG_NEWS(split='train')\r\n",
        "dataloader = DataLoader(train_iter, batch_size=8, shuffle=False, collate_fn=collate_batch)"
      ],
      "outputs": [],
      "metadata": {
        "collapsed": false
      }
    },
    {
      "cell_type": "markdown",
      "source": [
        "Define the model\n",
        "----------------\n",
        "\n",
        "The model is composed of the `nn.EmbeddingBag <https://pytorch.org/docs/stable/nn.html?highlight=embeddingbag#torch.nn.EmbeddingBag>`__ layer plus a linear layer for the classification purpose. ``nn.EmbeddingBag`` with the default mode of \"mean\" computes the mean value of a “bag” of embeddings. Although the text entries here have different lengths, nn.EmbeddingBag module requires no padding here since the text lengths are saved in offsets.\n",
        "\n",
        "Additionally, since ``nn.EmbeddingBag`` accumulates the average across\n",
        "the embeddings on the fly, ``nn.EmbeddingBag`` can enhance the\n",
        "performance and memory efficiency to process a sequence of tensors.\n",
        "\n",
        "![](../_static/img/text_sentiment_ngrams_model.png)\n",
        "\n",
        "\n",
        "\n"
      ],
      "metadata": {}
    },
    {
      "cell_type": "code",
      "execution_count": null,
      "source": [
        "from torch import nn\r\n",
        "\r\n",
        "class TextClassificationModel(nn.Module):\r\n",
        "\r\n",
        "    def __init__(self, vocab_size, embed_dim, num_class):\r\n",
        "        super(TextClassificationModel, self).__init__()\r\n",
        "        self.embedding = nn.EmbeddingBag(vocab_size, embed_dim, sparse=True)\r\n",
        "        self.fc = nn.Linear(embed_dim, num_class)\r\n",
        "        self.init_weights()\r\n",
        "\r\n",
        "    def init_weights(self):\r\n",
        "        initrange = 0.5\r\n",
        "        self.embedding.weight.data.uniform_(-initrange, initrange)\r\n",
        "        self.fc.weight.data.uniform_(-initrange, initrange)\r\n",
        "        self.fc.bias.data.zero_()\r\n",
        "\r\n",
        "    def forward(self, text, offsets):\r\n",
        "        embedded = self.embedding(text, offsets)\r\n",
        "        return self.fc(embedded)"
      ],
      "outputs": [],
      "metadata": {
        "collapsed": false
      }
    },
    {
      "cell_type": "markdown",
      "source": [
        "Initiate an instance\n",
        "--------------------\n",
        "\n",
        "The ``AG_NEWS`` dataset has four labels and therefore the number of classes is four.\n",
        "\n",
        "::\n",
        "\n",
        "   1 : World\n",
        "   2 : Sports\n",
        "   3 : Business\n",
        "   4 : Sci/Tec\n",
        "\n",
        "We build a model with the embedding dimension of 64. The vocab size is equal to the length of the vocabulary instance. The number of classes is equal to the number of labels,\n",
        "\n",
        "\n"
      ],
      "metadata": {}
    },
    {
      "cell_type": "code",
      "execution_count": null,
      "source": [
        "train_iter = AG_NEWS(split='train')\r\n",
        "num_class = len(set([label for (label, text) in train_iter]))\r\n",
        "vocab_size = len(vocab)\r\n",
        "emsize = 64\r\n",
        "model = TextClassificationModel(vocab_size, emsize, num_class).to(device)"
      ],
      "outputs": [],
      "metadata": {
        "collapsed": false
      }
    },
    {
      "cell_type": "markdown",
      "source": [
        "Define functions to train the model and evaluate results.\n",
        "---------------------------------------------------------\n",
        "\n",
        "\n"
      ],
      "metadata": {}
    },
    {
      "cell_type": "code",
      "execution_count": null,
      "source": [
        "import time\r\n",
        "\r\n",
        "def train(dataloader):\r\n",
        "    model.train()\r\n",
        "    total_acc, total_count = 0, 0\r\n",
        "    log_interval = 500\r\n",
        "    start_time = time.time()\r\n",
        "\r\n",
        "    for idx, (label, text, offsets) in enumerate(dataloader):\r\n",
        "        optimizer.zero_grad()\r\n",
        "        predicted_label = model(text, offsets)\r\n",
        "        loss = criterion(predicted_label, label)\r\n",
        "        loss.backward()\r\n",
        "        torch.nn.utils.clip_grad_norm_(model.parameters(), 0.1)\r\n",
        "        optimizer.step()\r\n",
        "        total_acc += (predicted_label.argmax(1) == label).sum().item()\r\n",
        "        total_count += label.size(0)\r\n",
        "        if idx % log_interval == 0 and idx > 0:\r\n",
        "            elapsed = time.time() - start_time\r\n",
        "            print('| epoch {:3d} | {:5d}/{:5d} batches '\r\n",
        "                  '| accuracy {:8.3f}'.format(epoch, idx, len(dataloader),\r\n",
        "                                              total_acc/total_count))\r\n",
        "            total_acc, total_count = 0, 0\r\n",
        "            start_time = time.time()\r\n",
        "\r\n",
        "def evaluate(dataloader):\r\n",
        "    model.eval()\r\n",
        "    total_acc, total_count = 0, 0\r\n",
        "\r\n",
        "    with torch.no_grad():\r\n",
        "        for idx, (label, text, offsets) in enumerate(dataloader):\r\n",
        "            predicted_label = model(text, offsets)\r\n",
        "            loss = criterion(predicted_label, label)\r\n",
        "            total_acc += (predicted_label.argmax(1) == label).sum().item()\r\n",
        "            total_count += label.size(0)\r\n",
        "    return total_acc/total_count"
      ],
      "outputs": [],
      "metadata": {
        "collapsed": false
      }
    },
    {
      "cell_type": "markdown",
      "source": [
        "Split the dataset and run the model\n",
        "-----------------------------------\n",
        "\n",
        "Since the original ``AG_NEWS`` has no valid dataset, we split the training\n",
        "dataset into train/valid sets with a split ratio of 0.95 (train) and\n",
        "0.05 (valid). Here we use\n",
        "`torch.utils.data.dataset.random_split <https://pytorch.org/docs/stable/data.html?highlight=random_split#torch.utils.data.random_split>`__\n",
        "function in PyTorch core library.\n",
        "\n",
        "`CrossEntropyLoss <https://pytorch.org/docs/stable/nn.html?highlight=crossentropyloss#torch.nn.CrossEntropyLoss>`__\n",
        "criterion combines ``nn.LogSoftmax()`` and ``nn.NLLLoss()`` in a single class.\n",
        "It is useful when training a classification problem with C classes.\n",
        "`SGD <https://pytorch.org/docs/stable/_modules/torch/optim/sgd.html>`__\n",
        "implements stochastic gradient descent method as the optimizer. The initial\n",
        "learning rate is set to 5.0.\n",
        "`StepLR <https://pytorch.org/docs/master/_modules/torch/optim/lr_scheduler.html#StepLR>`__\n",
        "is used here to adjust the learning rate through epochs.\n",
        "\n",
        "\n"
      ],
      "metadata": {}
    },
    {
      "cell_type": "code",
      "execution_count": null,
      "source": [
        "from torch.utils.data.dataset import random_split\r\n",
        "from torchtext.data.functional import to_map_style_dataset\r\n",
        "# Hyperparameters\r\n",
        "EPOCHS = 10 # epoch\r\n",
        "LR = 5  # learning rate\r\n",
        "BATCH_SIZE = 64 # batch size for training\r\n",
        "  \r\n",
        "criterion = torch.nn.CrossEntropyLoss()\r\n",
        "optimizer = torch.optim.SGD(model.parameters(), lr=LR)\r\n",
        "scheduler = torch.optim.lr_scheduler.StepLR(optimizer, 1.0, gamma=0.1)\r\n",
        "total_accu = None\r\n",
        "train_iter, test_iter = AG_NEWS()\r\n",
        "train_dataset = to_map_style_dataset(train_iter)\r\n",
        "test_dataset = to_map_style_dataset(test_iter)\r\n",
        "num_train = int(len(train_dataset) * 0.95)\r\n",
        "split_train_, split_valid_ = \\\r\n",
        "    random_split(train_dataset, [num_train, len(train_dataset) - num_train])\r\n",
        "\r\n",
        "train_dataloader = DataLoader(split_train_, batch_size=BATCH_SIZE,\r\n",
        "                              shuffle=True, collate_fn=collate_batch)\r\n",
        "valid_dataloader = DataLoader(split_valid_, batch_size=BATCH_SIZE,\r\n",
        "                              shuffle=True, collate_fn=collate_batch)\r\n",
        "test_dataloader = DataLoader(test_dataset, batch_size=BATCH_SIZE,\r\n",
        "                             shuffle=True, collate_fn=collate_batch)\r\n",
        "\r\n",
        "for epoch in range(1, EPOCHS + 1):\r\n",
        "    epoch_start_time = time.time()\r\n",
        "    train(train_dataloader)\r\n",
        "    accu_val = evaluate(valid_dataloader)\r\n",
        "    if total_accu is not None and total_accu > accu_val:\r\n",
        "      scheduler.step()\r\n",
        "    else:\r\n",
        "       total_accu = accu_val\r\n",
        "    print('-' * 59)\r\n",
        "    print('| end of epoch {:3d} | time: {:5.2f}s | '\r\n",
        "          'valid accuracy {:8.3f} '.format(epoch,\r\n",
        "                                           time.time() - epoch_start_time,\r\n",
        "                                           accu_val))\r\n",
        "    print('-' * 59)"
      ],
      "outputs": [],
      "metadata": {
        "collapsed": false
      }
    },
    {
      "cell_type": "markdown",
      "source": [
        "Evaluate the model with test dataset\n",
        "------------------------------------\n",
        "\n",
        "\n"
      ],
      "metadata": {}
    },
    {
      "cell_type": "markdown",
      "source": [
        "Checking the results of the test dataset…\n",
        "\n"
      ],
      "metadata": {}
    },
    {
      "cell_type": "code",
      "execution_count": null,
      "source": [
        "print('Checking the results of test dataset.')\r\n",
        "accu_test = evaluate(test_dataloader)\r\n",
        "print('test accuracy {:8.3f}'.format(accu_test))"
      ],
      "outputs": [],
      "metadata": {
        "collapsed": false
      }
    },
    {
      "cell_type": "markdown",
      "source": [
        "Test on a random news\n",
        "---------------------\n",
        "\n",
        "Use the best model so far and test a golf news.\n",
        "\n",
        "\n"
      ],
      "metadata": {}
    },
    {
      "cell_type": "code",
      "execution_count": null,
      "source": [
        "ag_news_label = {1: \"World\",\r\n",
        "                 2: \"Sports\",\r\n",
        "                 3: \"Business\",\r\n",
        "                 4: \"Sci/Tec\"}\r\n",
        "\r\n",
        "def predict(text, text_pipeline):\r\n",
        "    with torch.no_grad():\r\n",
        "        text = torch.tensor(text_pipeline(text))\r\n",
        "        output = model(text, torch.tensor([0]))\r\n",
        "        return output.argmax(1).item() + 1\r\n",
        "\r\n",
        "ex_text_str = \"MEMPHIS, Tenn. – Four days ago, Jon Rahm was \\\r\n",
        "    enduring the season’s worst weather conditions on Sunday at The \\\r\n",
        "    Open on his way to a closing 75 at Royal Portrush, which \\\r\n",
        "    considering the wind and the rain was a respectable showing. \\\r\n",
        "    Thursday’s first round at the WGC-FedEx St. Jude Invitational \\\r\n",
        "    was another story. With temperatures in the mid-80s and hardly any \\\r\n",
        "    wind, the Spaniard was 13 strokes better in a flawless round. \\\r\n",
        "    Thanks to his best putting performance on the PGA Tour, Rahm \\\r\n",
        "    finished with an 8-under 62 for a three-stroke lead, which \\\r\n",
        "    was even more impressive considering he’d never played the \\\r\n",
        "    front nine at TPC Southwind.\"\r\n",
        "\r\n",
        "model = model.to(\"cpu\")\r\n",
        "\r\n",
        "print(\"This is a %s news\" %ag_news_label[predict(ex_text_str, text_pipeline)])"
      ],
      "outputs": [],
      "metadata": {
        "collapsed": false
      }
    }
  ],
  "metadata": {
    "kernelspec": {
      "name": "python3",
      "display_name": "Python 3.8.10 64-bit ('pytorch': conda)"
    },
    "language_info": {
      "codemirror_mode": {
        "name": "ipython",
        "version": 3
      },
      "file_extension": ".py",
      "mimetype": "text/x-python",
      "name": "python",
      "nbconvert_exporter": "python",
      "pygments_lexer": "ipython3",
      "version": "3.8.10"
    },
    "interpreter": {
      "hash": "c30a9988b52f584ddda09f33236b1eddd41804de3475268d4413b151e88893b0"
    }
  },
  "nbformat": 4,
  "nbformat_minor": 2
}